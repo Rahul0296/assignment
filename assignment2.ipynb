{
 "cells": [
  {
   "cell_type": "code",
   "execution_count": 6,
   "id": "789d4f43-b33d-491d-8e9b-fd84458a425b",
   "metadata": {},
   "outputs": [
    {
     "name": "stdin",
     "output_type": "stream",
     "text": [
      "enter your marks 82\n"
     ]
    },
    {
     "name": "stdout",
     "output_type": "stream",
     "text": [
      "Grade B\n"
     ]
    }
   ],
   "source": [
    "#1. Write a program to accept percentage from the user and display the grade according to the following \n",
    "\n",
    "marks = int(input(\"enter your marks\"))\n",
    "if marks > 90:\n",
    "            print(\"Grade A\")\n",
    "elif marks > 80 and marks <=90:\n",
    "    print(\"Grade B\")\n",
    "elif marks >=60 and marks <=80:\n",
    "    print(\"Grade C\")\n",
    "else :\n",
    "    print(\"Grade D\")\n",
    "    "
   ]
  },
  {
   "cell_type": "code",
   "execution_count": 15,
   "id": "63031a03-f33d-402e-8ad0-efcaa7f0ea8b",
   "metadata": {},
   "outputs": [
    {
     "name": "stdin",
     "output_type": "stream",
     "text": [
      "cost price of a bike 40000\n"
     ]
    },
    {
     "name": "stdout",
     "output_type": "stream",
     "text": [
      "Road Tax is 5%\n"
     ]
    }
   ],
   "source": [
    "#2. Write a program to accept the cost price of a bike and display the road tax to be paid according to the following criteria: \n",
    "\n",
    "price = int(input(\"cost price of a bike\"))\n",
    "if price > 100000:\n",
    "            print(\"Road Tax is 15%\")\n",
    "elif price >50000 and price <=100000:\n",
    "    print(\"Road Tax is 10%\")\n",
    "elif price <= 50000:\n",
    "    print(\"Road Tax is 5%\")\n",
    "        "
   ]
  },
  {
   "cell_type": "code",
   "execution_count": 48,
   "id": "8849e917-713d-4200-8e7d-51d34de3b429",
   "metadata": {},
   "outputs": [
    {
     "name": "stdin",
     "output_type": "stream",
     "text": [
      "Enter a city Delhi\n"
     ]
    },
    {
     "name": "stdout",
     "output_type": "stream",
     "text": [
      "Red Fort\n"
     ]
    }
   ],
   "source": [
    "#3.Accept any city from the user and display monuments of that city. \n",
    "\n",
    "city = input(\"Enter a city\")\n",
    "if city  == \"Delhi\":\n",
    "     print(\"Red Fort\")\n",
    "elif city == \"Agra\":\n",
    "    print(\"Taj Mahal\")\n",
    "elif city == \"Jaipur\":\n",
    "    print(\"Jal Mahal\")\n",
    "else:\n",
    "    print(\"Enter a valid city\")      \n",
    "    "
   ]
  },
  {
   "cell_type": "code",
   "execution_count": 2,
   "id": "97f61993-bdc9-437f-9bed-3696fb3b2d5b",
   "metadata": {},
   "outputs": [
    {
     "data": {
      "text/plain": [
       "2"
      ]
     },
     "execution_count": 2,
     "metadata": {},
     "output_type": "execute_result"
    }
   ],
   "source": [
    "#4. Check how many times a given number can be divided by 3 before it is less than or equal to 10. \n",
    "count =0\n",
    "n =90\n",
    "\n",
    "while n > 10:\n",
    "    n=n / 3\n",
    "    count=count + 1\n",
    "count    "
   ]
  },
  {
   "cell_type": "markdown",
   "id": "f7775984-b889-4784-a80f-82d1683e41b6",
   "metadata": {},
   "source": [
    "#5. when and why to use while loop in python giva a detailed description with example.\n",
    "\n",
    "A while loop in Python is used to repeatedly execute a block of code as long as a given condition is true. The general structure of a while loop is as follows:\n",
    "while condition:\n",
    "# code to be executed\n",
    "\n",
    "The code inside the loop will be executed repeatedly until the condition becomes false. It's important to ensure that the condition eventually becomes false, or the loop will run forever and result in an infinite loop.\n",
    "\n",
    "Here's an example of using a while loop to print the numbers from 1 to 10:\n",
    "\n",
    "counter = 1\n",
    "\n",
    "while counter <= 10:\n",
    "    print(counter)\n",
    "    counter += 1\n",
    "\n",
    "\n",
    "while loops are useful when you need to repeat an operation for an unknown number of times, or when you have a condition that must be checked repeatedly until it is no longer true. For example, you can use a while loop to read data from a file until there is no more data to read, or to keep asking a user for input until they provide a valid response."
   ]
  },
  {
   "cell_type": "code",
   "execution_count": 3,
   "id": "53213fcb-6336-4d33-869b-ad5e463a42a4",
   "metadata": {},
   "outputs": [
    {
     "name": "stdout",
     "output_type": "stream",
     "text": [
      "*\n",
      "**\n",
      "***\n",
      "****\n",
      "*****\n"
     ]
    }
   ],
   "source": [
    "#6 .Use nested while loop to print 3 different pattern.\n",
    "i = 1\n",
    "while i <= 5:\n",
    "    j = 1\n",
    "    while j <= i:\n",
    "        print(\"*\", end=\"\")\n",
    "        j += 1\n",
    "    print(\"\")\n",
    "    i += 1\n"
   ]
  },
  {
   "cell_type": "code",
   "execution_count": 4,
   "id": "b5419a5c-113b-45d1-8398-87c9981991e6",
   "metadata": {},
   "outputs": [
    {
     "name": "stdout",
     "output_type": "stream",
     "text": [
      "*****\n",
      "****\n",
      "***\n",
      "**\n",
      "*\n"
     ]
    }
   ],
   "source": [
    "i = 5\n",
    "while i >= 1:\n",
    "    j = 1\n",
    "    while j <= i:\n",
    "        print(\"*\", end=\"\")\n",
    "        j += 1\n",
    "    print(\"\")\n",
    "    i -= 1\n"
   ]
  },
  {
   "cell_type": "code",
   "execution_count": 5,
   "id": "ba3cbdfc-ad71-42e7-b206-58ab866df469",
   "metadata": {},
   "outputs": [
    {
     "name": "stdout",
     "output_type": "stream",
     "text": [
      "    *\n",
      "   **\n",
      "  ***\n",
      " ****\n",
      "*****\n"
     ]
    }
   ],
   "source": [
    "i = 1\n",
    "while i <= 5:\n",
    "    j = 1\n",
    "    while j <= 5:\n",
    "        if j >= 6-i:\n",
    "            print(\"*\", end=\"\")\n",
    "        else:\n",
    "            print(\" \", end=\"\")\n",
    "        j += 1\n",
    "    print(\"\")\n",
    "    i += 1\n"
   ]
  },
  {
   "cell_type": "code",
   "execution_count": 9,
   "id": "b7619928-6082-4c3d-acc2-3b0083539cee",
   "metadata": {},
   "outputs": [
    {
     "name": "stdout",
     "output_type": "stream",
     "text": [
      "10\n",
      "9\n",
      "8\n",
      "7\n",
      "6\n",
      "5\n",
      "4\n",
      "3\n",
      "2\n",
      "1\n"
     ]
    }
   ],
   "source": [
    "#7.Reverse a while loop to displays number from 10 to 1.\n",
    "i = 10\n",
    "while i >= 1:\n",
    "    print(i)\n",
    "    i -= 1\n"
   ]
  },
  {
   "cell_type": "code",
   "execution_count": null,
   "id": "e6ef6709-0ba5-4885-bdc6-9deca42aa552",
   "metadata": {},
   "outputs": [],
   "source": []
  }
 ],
 "metadata": {
  "kernelspec": {
   "display_name": "Python 3 (ipykernel)",
   "language": "python",
   "name": "python3"
  },
  "language_info": {
   "codemirror_mode": {
    "name": "ipython",
    "version": 3
   },
   "file_extension": ".py",
   "mimetype": "text/x-python",
   "name": "python",
   "nbconvert_exporter": "python",
   "pygments_lexer": "ipython3",
   "version": "3.10.8"
  }
 },
 "nbformat": 4,
 "nbformat_minor": 5
}
